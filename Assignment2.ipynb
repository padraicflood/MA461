{
 "cells": [
  {
   "cell_type": "markdown",
   "metadata": {},
   "source": [
    "# Hidden Markov Models"
   ]
  },
  {
   "cell_type": "code",
   "execution_count": 1,
   "metadata": {
    "collapsed": true
   },
   "outputs": [],
   "source": [
    "import numpy as np\n",
    "import matplotlib.pyplot as plt\n",
    "import numpy.linalg as LA\n",
    "from __future__ import division #make division result in floating point result.\n",
    "%matplotlib inline"
   ]
  },
  {
   "cell_type": "markdown",
   "metadata": {},
   "source": [
    "I use this table to let me encode states and obervations as integers  \n",
    "\n",
    "| Index | State | Observation|\n",
    "|--|---------|------------|\n",
    "|0 | Depression |Negative|\n",
    "|1 | Wellness |positive|\n"
   ]
  },
  {
   "cell_type": "markdown",
   "metadata": {},
   "source": [
    "State lenghts, X, follow a geometric distrobution with pmf:\n",
    "$$Pr(X=k) = (1-p)^{k-1}p$$\n",
    "for k = 1,2,3...  \n",
    "where p is the probability of leaving the state  \n",
    "This has a mean $\\frac{1}{p}$. This equals 2 and 5 for the depressed and wellness states respectively. Giving a probability transition matrix of:\n",
    "$$P = \\begin{bmatrix}\n",
    "\\frac{1}{2} & \\frac{1}{2} \\\\ \\frac{1}{5} & \\frac{4}{5} \\end{bmatrix} $$"
   ]
  },
  {
   "cell_type": "code",
   "execution_count": 2,
   "metadata": {
    "collapsed": true
   },
   "outputs": [],
   "source": [
    "P = np.array([[1/2, 1/2], [1/5, 4/5]])\n",
    "E = np.array([[.7, .3], [.3, .7]])\n",
    "obs = [1, 0, 1, 0, 0, 0, 1, 0] # 0 = negative score, 1 = positive score."
   ]
  },
  {
   "cell_type": "code",
   "execution_count": 3,
   "metadata": {
    "collapsed": true
   },
   "outputs": [],
   "source": [
    "def vitermbi(P, E, obs):\n",
    "    \"\"\"\n",
    "    Perform viterbi algoirthm and return the most probable sequence of hidden states\n",
    "    Parameters\n",
    "    ----------\n",
    "    P : Numpy array\n",
    "        Probability transition matrix for the hidden states\n",
    "    E : Numpy array\n",
    "        emission matrix\n",
    "    obs : list or Numpy array\n",
    "        observed values\n",
    "    \"\"\"\n",
    "    states = np.arange(len(P))\n",
    "    V = np.zeros((len(states), len(obs)))\n",
    "    Ptr = np.zeros((len(states), len(obs)), dtype=np.uint64)\n",
    "    Ptr[:, 0] = np.array([np.nan, np.nan])\n",
    "    pi = np.array(((np.mat(P))**1000)[0].flat) #find stationary distro by taking large power of P\n",
    "    \n",
    "    for k in states:\n",
    "        V[k, 0] = pi[k] * E[k, obs[0]] #initialise V using stationary distro of P\n",
    "    for i, o in enumerate(obs[1:], start=1):\n",
    "        for m in states:\n",
    "            l = V[:, i-1] * P[:, m]\n",
    "            max_index =  np.argmax(l)\n",
    "            V[m, i] = E[m, o] * l[max_index]\n",
    "            Ptr[m, i] = max_index \n",
    "    \n",
    "    rho = [np.argmax(V[:, -1])] #initialise rho with max probability pointer\n",
    "    for p in Ptr[:, ::-1].T[:-1, :]: #traceback\n",
    "        rho.append(p[rho[-1]])\n",
    "    return rho[::-1] #reverse rho and return"
   ]
  },
  {
   "cell_type": "code",
   "execution_count": 4,
   "metadata": {
    "collapsed": false
   },
   "outputs": [],
   "source": [
    "def forward_backward(P, E, obs):\n",
    "    \"\"\"\n",
    "    Perform forward backward algoirthm and return the a numpy array of posterior probabilities\n",
    "    Parameters\n",
    "    ----------\n",
    "    P : Numpy array\n",
    "        Probability transition matrix for the hidden states\n",
    "    E : Numpy array\n",
    "        emission matrix\n",
    "    obs : list or Numpy array\n",
    "        observed values\n",
    "    \"\"\"\n",
    "    states = np.arange(len(P))\n",
    "    F = np.zeros((len(states), len(obs)))\n",
    "    B = np.zeros((len(states), len(obs)))\n",
    "    pi = np.array(((np.mat(P))**1000)[0].flat) #find stationary distro by taking large power of P\n",
    "    \n",
    "    for k in states:\n",
    "        F[k, 0] = pi[k] * E[k, obs[0]] #initialise F using stationary disto of P\n",
    "    for i, o in enumerate(obs[1:], start=1):  #iterate forward through the observations to calculate F\n",
    "        for m in states:\n",
    "            F[m, i] = E[m, o] * sum(F[:, i-1] * P[:, m])\n",
    "    \n",
    "    B[:,-1] = np.ones(len(states)) #initialise B as 1's\n",
    "    for i, o in enumerate(obs[1:][::-1], start=1): #iterate back through the observations to calculate B\n",
    "        for m in states:\n",
    "            B[m, -(i+1)] = sum(E[:, o] * B[:, -i] * P[m, :])\n",
    "    \n",
    "    Pr_total = sum(F[:,-1])\n",
    "    # OR: Pr_total = sum(B.T[0] * E[:, obs(0)] * pi)\n",
    "    Posterior = (F * B)/Pr_total\n",
    "    return Posterior"
   ]
  },
  {
   "cell_type": "code",
   "execution_count": 5,
   "metadata": {
    "collapsed": false
   },
   "outputs": [],
   "source": [
    "post = forward_backward(P, E, obs)\n",
    "rho = vitermbi(P, E, obs)"
   ]
  },
  {
   "cell_type": "code",
   "execution_count": 6,
   "metadata": {
    "collapsed": false
   },
   "outputs": [
    {
     "data": {
      "image/png": "[encoded data removed]",
      "text/plain": [
       "<matplotlib.figure.Figure at 0x1108b4c10>"
      ]
     },
     "metadata": {},
     "output_type": "display_data"
    }
   ],
   "source": [
    "barlist = plt.bar(np.arange(len(obs))+1, post[0]) #Add 1 so that indices start at 1 instead of 0\n",
    "state_color_list = ['b','g']\n",
    "for i, r in enumerate(rho):\n",
    "    barlist[i].set_color(state_color_list[r])\n",
    "plt.xlabel(\"Day\")\n",
    "plt.ylabel(\"Posterior Porbability of Depression\")\n",
    "plt.legend((\"well\",\"depressed\"), loc='upper left')\n",
    "plt.show()"
   ]
  },
  {
   "cell_type": "code",
   "execution_count": 7,
   "metadata": {
    "collapsed": false
   },
   "outputs": [
    {
     "data": {
      "text/plain": [
       "0.53047503247568506"
      ]
     },
     "execution_count": 7,
     "metadata": {},
     "output_type": "execute_result"
    }
   ],
   "source": [
    "post[0, 5] #Probability patient is depressed on day 6 (index = 5)"
   ]
  },
  {
   "cell_type": "code",
   "execution_count": 8,
   "metadata": {
    "collapsed": false
   },
   "outputs": [
    {
     "data": {
      "text/plain": [
       "array([ 0.28571429,  0.71428571])"
      ]
     },
     "execution_count": 8,
     "metadata": {},
     "output_type": "execute_result"
    }
   ],
   "source": [
    "np.array(((np.mat(P))**1000)[0].flat)"
   ]
  },
  {
   "cell_type": "code",
   "execution_count": 9,
   "metadata": {
    "collapsed": false
   },
   "outputs": [
    {
     "data": {
      "text/plain": [
       "0.2857142857142857"
      ]
     },
     "execution_count": 9,
     "metadata": {},
     "output_type": "execute_result"
    }
   ],
   "source": [
    "2/7"
   ]
  },
  {
   "cell_type": "code",
   "execution_count": 10,
   "metadata": {
    "collapsed": false
   },
   "outputs": [
    {
     "data": {
      "text/plain": [
       "0.7142857142857143"
      ]
     },
     "execution_count": 10,
     "metadata": {},
     "output_type": "execute_result"
    }
   ],
   "source": [
    "5/7"
   ]
  },
  {
   "cell_type": "code",
   "execution_count": null,
   "metadata": {
    "collapsed": false
   },
   "outputs": [],
   "source": []
  }
 ],
 "metadata": {
  "kernelspec": {
   "display_name": "Python 2",
   "language": "python",
   "name": "python2"
  },
  "language_info": {
   "codemirror_mode": {
    "name": "ipython",
    "version": 2
   },
   "file_extension": ".py",
   "mimetype": "text/x-python",
   "name": "python",
   "nbconvert_exporter": "python",
   "pygments_lexer": "ipython2",
   "version": "2.7.7"
  }
 },
 "nbformat": 4,
 "nbformat_minor": 0
}
